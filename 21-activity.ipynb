{
 "cells": [
  {
   "cell_type": "code",
   "execution_count": 30,
   "id": "800fcc57-9299-4c13-84e8-692d3cc8edc9",
   "metadata": {},
   "outputs": [
    {
     "name": "stdout",
     "output_type": "stream",
     "text": [
      "C:\\Users\\banderson5\\Desktop\\Babson_Python\n"
     ]
    }
   ],
   "source": [
    "import os\n",
    "import pandas as pd\n",
    "import matplotlib.pyplot as plt\n",
    "\n",
    "os.chdir('Users/banderson5/Desktop/Babson_Python')\n",
    "print(os.getcwd())\n",
    "\n",
    "\n",
    "\n",
    "\n",
    "\n",
    "\n",
    "\n"
   ]
  },
  {
   "cell_type": "markdown",
   "id": "c441e4ca",
   "metadata": {},
   "source": [
    "# In-Class 21\n",
    "* In this assignment you will be working with three data files from iMDB:\n",
    "    * cast.csv\n",
    "    * release_dates.csv\n",
    "    * titles.csv\n",
    "* Using the appropriate file(s), answer the following questions\n",
    "* Some questions can be completed with one-liners while others are a bit more involved\n",
    "* Where appropriate, answers should also provide brief commentary\n",
    "* Exclude data that doen't make senss, i.e. data from the future\n",
    "* Once complete upload this notebook to your classwork Github repo and post the link on Canvas "
   ]
  },
  {
   "cell_type": "code",
   "execution_count": 32,
   "id": "f4594546",
   "metadata": {},
   "outputs": [],
   "source": [
    "import numpy as np\n",
    "import pandas as pd\n",
    "import matplotlib.pyplot as plt\n",
    "\n",
    "titles = pd.read_csv('titles.csv')\n",
    "cast = pd.read_csv('cast.csv')\n",
    "release_dates = pd.read_csv('release_dates.csv')"
   ]
  },
  {
   "cell_type": "markdown",
   "id": "7f3efd04",
   "metadata": {},
   "source": [
    "### 1. Conduct a high level assessment of the three data files, i.e. how many records are there, what kind of data, etc. Summarize your findings with annotation. "
   ]
  },
  {
   "cell_type": "code",
   "execution_count": 133,
   "id": "03bc8314",
   "metadata": {},
   "outputs": [
    {
     "name": "stdout",
     "output_type": "stream",
     "text": [
      "Titles Dataset\n",
      "Records: 224777\n",
      "Columns: ['title', 'year', 'decade']\n",
      "Data Types:\n",
      " title     object\n",
      "year       int64\n",
      "decade     int64\n",
      "dtype: object\n",
      "This is a file that contains 224777 movies including title of the movie, the year it cam out and then the decade it was released in. The data are in panda objects and integers\n",
      "\n",
      "Cast Dataset\n",
      "Records: 3442902\n",
      "Columns: ['title', 'year', 'name', 'type', 'character', 'n']\n",
      "Data Types:\n",
      " title         object\n",
      "year           int64\n",
      "name          object\n",
      "type          object\n",
      "character     object\n",
      "n            float64\n",
      "dtype: object\n",
      "This is a data set that has 3442902 actors in movies. It provides the title of the movie they were in, the role, the character, and the year it came out\n",
      "\n",
      "Release Date Dataset\n",
      "Records: 443486\n",
      "Columns: ['title', 'year', 'country', 'date']\n",
      "Data Types:\n",
      " title      object\n",
      "year        int64\n",
      "country    object\n",
      "date       object\n",
      "dtype: object\n",
      "This is a data set containing the release dates of 443486 movies titles along with what country they came out in\n"
     ]
    }
   ],
   "source": [
    "print(\"Titles Dataset\")\n",
    "print(\"Records:\", titles.shape[0])\n",
    "print(\"Columns:\", titles.columns.tolist())\n",
    "print(\"Data Types:\\n\", titles.dtypes)\n",
    "print(\"This is a file that contains 224777 movies including title of the movie, the year it cam out and then the decade it was released in. The data are in panda objects and integers\")\n",
    "\n",
    "print(\"\\nCast Dataset\")\n",
    "print(\"Records:\", cast.shape[0])\n",
    "print(\"Columns:\", cast.columns.tolist())\n",
    "print(\"Data Types:\\n\", cast.dtypes)\n",
    "print(\"This is a data set that has 3442902 actors in movies. It provides the title of the movie they were in, the role, the character, and the year it came out\")\n",
    "\n",
    "\n",
    "print(\"\\nRelease Date Dataset\")\n",
    "print(\"Records:\", release_dates.shape[0])\n",
    "print(\"Columns:\", release_dates.columns.tolist())\n",
    "print(\"Data Types:\\n\", release_dates.dtypes)\n",
    "print(\"This is a data set containing the release dates of 443486 movies titles along with what country they came out in\")\n",
    "\n"
   ]
  },
  {
   "cell_type": "markdown",
   "id": "8949aee1",
   "metadata": {},
   "source": [
    "### 2. How many movies have the title North by Northwest"
   ]
  },
  {
   "cell_type": "code",
   "execution_count": 122,
   "id": "712cba84",
   "metadata": {},
   "outputs": [
    {
     "data": {
      "text/plain": [
       "1"
      ]
     },
     "execution_count": 122,
     "metadata": {},
     "output_type": "execute_result"
    }
   ],
   "source": [
    "\n",
    "count_north = titles[titles['title'] == 'North by Northwest'].shape[0]\n",
    "count_north\n"
   ]
  },
  {
   "cell_type": "markdown",
   "id": "651191f3",
   "metadata": {},
   "source": [
    "### 3. How many version of Hamlet are there, when was the first made? the last?"
   ]
  },
  {
   "cell_type": "code",
   "execution_count": 143,
   "id": "1e421672",
   "metadata": {},
   "outputs": [
    {
     "name": "stdout",
     "output_type": "stream",
     "text": [
      "Number 20\n",
      "First: 1910\n",
      "Last: 2017\n"
     ]
    }
   ],
   "source": [
    "versions = titles[(titles['title'] == 'Hamlet') & (titles['year'] <= 2018)]\n",
    "\n",
    "number_of_versions = versions.shape[0]\n",
    "first_made = versions['year'].min()\n",
    "last_made = versions['year'].max()\n",
    "print(f\"Number {number_of_versions}\")\n",
    "print(f\"First: {first_made}\")\n",
    "print(f\"Last: {last_made}\")"
   ]
  },
  {
   "cell_type": "markdown",
   "id": "5650b610",
   "metadata": {},
   "source": [
    "### 4. List all the movies called Treasure Island from oldest to newest"
   ]
  },
  {
   "cell_type": "code",
   "execution_count": 104,
   "id": "636611d9",
   "metadata": {},
   "outputs": [
    {
     "data": {
      "text/html": [
       "<div>\n",
       "<style scoped>\n",
       "    .dataframe tbody tr th:only-of-type {\n",
       "        vertical-align: middle;\n",
       "    }\n",
       "\n",
       "    .dataframe tbody tr th {\n",
       "        vertical-align: top;\n",
       "    }\n",
       "\n",
       "    .dataframe thead th {\n",
       "        text-align: right;\n",
       "    }\n",
       "</style>\n",
       "<table border=\"1\" class=\"dataframe\">\n",
       "  <thead>\n",
       "    <tr style=\"text-align: right;\">\n",
       "      <th></th>\n",
       "      <th>title</th>\n",
       "      <th>year</th>\n",
       "      <th>country</th>\n",
       "      <th>date</th>\n",
       "    </tr>\n",
       "  </thead>\n",
       "  <tbody>\n",
       "    <tr>\n",
       "      <th>408261</th>\n",
       "      <td>Treasure Island</td>\n",
       "      <td>1918</td>\n",
       "      <td>USA</td>\n",
       "      <td>1918-01-27</td>\n",
       "    </tr>\n",
       "    <tr>\n",
       "      <th>408262</th>\n",
       "      <td>Treasure Island</td>\n",
       "      <td>1920</td>\n",
       "      <td>USA</td>\n",
       "      <td>1920-04-04</td>\n",
       "    </tr>\n",
       "    <tr>\n",
       "      <th>408263</th>\n",
       "      <td>Treasure Island</td>\n",
       "      <td>1920</td>\n",
       "      <td>Sweden</td>\n",
       "      <td>1921-03-19</td>\n",
       "    </tr>\n",
       "    <tr>\n",
       "      <th>408264</th>\n",
       "      <td>Treasure Island</td>\n",
       "      <td>1920</td>\n",
       "      <td>UK</td>\n",
       "      <td>1921-06-20</td>\n",
       "    </tr>\n",
       "    <tr>\n",
       "      <th>408265</th>\n",
       "      <td>Treasure Island</td>\n",
       "      <td>1920</td>\n",
       "      <td>France</td>\n",
       "      <td>1923-01-12</td>\n",
       "    </tr>\n",
       "    <tr>\n",
       "      <th>408266</th>\n",
       "      <td>Treasure Island</td>\n",
       "      <td>1920</td>\n",
       "      <td>Finland</td>\n",
       "      <td>1923-04-01</td>\n",
       "    </tr>\n",
       "    <tr>\n",
       "      <th>408267</th>\n",
       "      <td>Treasure Island</td>\n",
       "      <td>1934</td>\n",
       "      <td>USA</td>\n",
       "      <td>1934-08-17</td>\n",
       "    </tr>\n",
       "    <tr>\n",
       "      <th>408268</th>\n",
       "      <td>Treasure Island</td>\n",
       "      <td>1934</td>\n",
       "      <td>Denmark</td>\n",
       "      <td>1934-12-26</td>\n",
       "    </tr>\n",
       "    <tr>\n",
       "      <th>408269</th>\n",
       "      <td>Treasure Island</td>\n",
       "      <td>1934</td>\n",
       "      <td>Spain</td>\n",
       "      <td>1934-12-28</td>\n",
       "    </tr>\n",
       "    <tr>\n",
       "      <th>408270</th>\n",
       "      <td>Treasure Island</td>\n",
       "      <td>1934</td>\n",
       "      <td>Sweden</td>\n",
       "      <td>1935-01-07</td>\n",
       "    </tr>\n",
       "    <tr>\n",
       "      <th>408271</th>\n",
       "      <td>Treasure Island</td>\n",
       "      <td>1934</td>\n",
       "      <td>Finland</td>\n",
       "      <td>1935-01-20</td>\n",
       "    </tr>\n",
       "    <tr>\n",
       "      <th>408272</th>\n",
       "      <td>Treasure Island</td>\n",
       "      <td>1934</td>\n",
       "      <td>France</td>\n",
       "      <td>1935-02-08</td>\n",
       "    </tr>\n",
       "    <tr>\n",
       "      <th>408273</th>\n",
       "      <td>Treasure Island</td>\n",
       "      <td>1934</td>\n",
       "      <td>Portugal</td>\n",
       "      <td>1936-01-07</td>\n",
       "    </tr>\n",
       "    <tr>\n",
       "      <th>408274</th>\n",
       "      <td>Treasure Island</td>\n",
       "      <td>1950</td>\n",
       "      <td>USA</td>\n",
       "      <td>1950-07-19</td>\n",
       "    </tr>\n",
       "    <tr>\n",
       "      <th>408275</th>\n",
       "      <td>Treasure Island</td>\n",
       "      <td>1950</td>\n",
       "      <td>Ireland</td>\n",
       "      <td>1950-10-20</td>\n",
       "    </tr>\n",
       "    <tr>\n",
       "      <th>408276</th>\n",
       "      <td>Treasure Island</td>\n",
       "      <td>1950</td>\n",
       "      <td>Sweden</td>\n",
       "      <td>1950-11-27</td>\n",
       "    </tr>\n",
       "    <tr>\n",
       "      <th>408277</th>\n",
       "      <td>Treasure Island</td>\n",
       "      <td>1950</td>\n",
       "      <td>Argentina</td>\n",
       "      <td>1951-01-17</td>\n",
       "    </tr>\n",
       "    <tr>\n",
       "      <th>408278</th>\n",
       "      <td>Treasure Island</td>\n",
       "      <td>1950</td>\n",
       "      <td>Italy</td>\n",
       "      <td>1951-03-08</td>\n",
       "    </tr>\n",
       "    <tr>\n",
       "      <th>408279</th>\n",
       "      <td>Treasure Island</td>\n",
       "      <td>1950</td>\n",
       "      <td>Portugal</td>\n",
       "      <td>1951-03-29</td>\n",
       "    </tr>\n",
       "    <tr>\n",
       "      <th>408280</th>\n",
       "      <td>Treasure Island</td>\n",
       "      <td>1950</td>\n",
       "      <td>France</td>\n",
       "      <td>1951-04-20</td>\n",
       "    </tr>\n",
       "    <tr>\n",
       "      <th>408281</th>\n",
       "      <td>Treasure Island</td>\n",
       "      <td>1950</td>\n",
       "      <td>Denmark</td>\n",
       "      <td>1951-05-11</td>\n",
       "    </tr>\n",
       "    <tr>\n",
       "      <th>408282</th>\n",
       "      <td>Treasure Island</td>\n",
       "      <td>1950</td>\n",
       "      <td>Australia</td>\n",
       "      <td>1951-05-18</td>\n",
       "    </tr>\n",
       "    <tr>\n",
       "      <th>408283</th>\n",
       "      <td>Treasure Island</td>\n",
       "      <td>1950</td>\n",
       "      <td>Finland</td>\n",
       "      <td>1951-11-09</td>\n",
       "    </tr>\n",
       "    <tr>\n",
       "      <th>408284</th>\n",
       "      <td>Treasure Island</td>\n",
       "      <td>1950</td>\n",
       "      <td>Japan</td>\n",
       "      <td>1951-12-27</td>\n",
       "    </tr>\n",
       "    <tr>\n",
       "      <th>408285</th>\n",
       "      <td>Treasure Island</td>\n",
       "      <td>1950</td>\n",
       "      <td>Hong Kong</td>\n",
       "      <td>1952-01-10</td>\n",
       "    </tr>\n",
       "    <tr>\n",
       "      <th>408286</th>\n",
       "      <td>Treasure Island</td>\n",
       "      <td>1950</td>\n",
       "      <td>West Germany</td>\n",
       "      <td>1952-03-17</td>\n",
       "    </tr>\n",
       "    <tr>\n",
       "      <th>408287</th>\n",
       "      <td>Treasure Island</td>\n",
       "      <td>1950</td>\n",
       "      <td>Austria</td>\n",
       "      <td>1952-11-14</td>\n",
       "    </tr>\n",
       "    <tr>\n",
       "      <th>408288</th>\n",
       "      <td>Treasure Island</td>\n",
       "      <td>1950</td>\n",
       "      <td>Spain</td>\n",
       "      <td>1953-04-04</td>\n",
       "    </tr>\n",
       "    <tr>\n",
       "      <th>408289</th>\n",
       "      <td>Treasure Island</td>\n",
       "      <td>1972</td>\n",
       "      <td>UK</td>\n",
       "      <td>1972-10-30</td>\n",
       "    </tr>\n",
       "    <tr>\n",
       "      <th>408290</th>\n",
       "      <td>Treasure Island</td>\n",
       "      <td>1972</td>\n",
       "      <td>West Germany</td>\n",
       "      <td>1972-12-26</td>\n",
       "    </tr>\n",
       "    <tr>\n",
       "      <th>408291</th>\n",
       "      <td>Treasure Island</td>\n",
       "      <td>1972</td>\n",
       "      <td>Italy</td>\n",
       "      <td>1973-08-13</td>\n",
       "    </tr>\n",
       "    <tr>\n",
       "      <th>408292</th>\n",
       "      <td>Treasure Island</td>\n",
       "      <td>1972</td>\n",
       "      <td>France</td>\n",
       "      <td>1973-10-25</td>\n",
       "    </tr>\n",
       "    <tr>\n",
       "      <th>408293</th>\n",
       "      <td>Treasure Island</td>\n",
       "      <td>1972</td>\n",
       "      <td>Finland</td>\n",
       "      <td>1974-12-20</td>\n",
       "    </tr>\n",
       "    <tr>\n",
       "      <th>408294</th>\n",
       "      <td>Treasure Island</td>\n",
       "      <td>1972</td>\n",
       "      <td>Hungary</td>\n",
       "      <td>1977-01-27</td>\n",
       "    </tr>\n",
       "    <tr>\n",
       "      <th>408295</th>\n",
       "      <td>Treasure Island</td>\n",
       "      <td>1972</td>\n",
       "      <td>Poland</td>\n",
       "      <td>1978-02-03</td>\n",
       "    </tr>\n",
       "    <tr>\n",
       "      <th>408296</th>\n",
       "      <td>Treasure Island</td>\n",
       "      <td>1985</td>\n",
       "      <td>France</td>\n",
       "      <td>1994-06-15</td>\n",
       "    </tr>\n",
       "  </tbody>\n",
       "</table>\n",
       "</div>"
      ],
      "text/plain": [
       "                  title  year       country        date\n",
       "408261  Treasure Island  1918           USA  1918-01-27\n",
       "408262  Treasure Island  1920           USA  1920-04-04\n",
       "408263  Treasure Island  1920        Sweden  1921-03-19\n",
       "408264  Treasure Island  1920            UK  1921-06-20\n",
       "408265  Treasure Island  1920        France  1923-01-12\n",
       "408266  Treasure Island  1920       Finland  1923-04-01\n",
       "408267  Treasure Island  1934           USA  1934-08-17\n",
       "408268  Treasure Island  1934       Denmark  1934-12-26\n",
       "408269  Treasure Island  1934         Spain  1934-12-28\n",
       "408270  Treasure Island  1934        Sweden  1935-01-07\n",
       "408271  Treasure Island  1934       Finland  1935-01-20\n",
       "408272  Treasure Island  1934        France  1935-02-08\n",
       "408273  Treasure Island  1934      Portugal  1936-01-07\n",
       "408274  Treasure Island  1950           USA  1950-07-19\n",
       "408275  Treasure Island  1950       Ireland  1950-10-20\n",
       "408276  Treasure Island  1950        Sweden  1950-11-27\n",
       "408277  Treasure Island  1950     Argentina  1951-01-17\n",
       "408278  Treasure Island  1950         Italy  1951-03-08\n",
       "408279  Treasure Island  1950      Portugal  1951-03-29\n",
       "408280  Treasure Island  1950        France  1951-04-20\n",
       "408281  Treasure Island  1950       Denmark  1951-05-11\n",
       "408282  Treasure Island  1950     Australia  1951-05-18\n",
       "408283  Treasure Island  1950       Finland  1951-11-09\n",
       "408284  Treasure Island  1950         Japan  1951-12-27\n",
       "408285  Treasure Island  1950     Hong Kong  1952-01-10\n",
       "408286  Treasure Island  1950  West Germany  1952-03-17\n",
       "408287  Treasure Island  1950       Austria  1952-11-14\n",
       "408288  Treasure Island  1950         Spain  1953-04-04\n",
       "408289  Treasure Island  1972            UK  1972-10-30\n",
       "408290  Treasure Island  1972  West Germany  1972-12-26\n",
       "408291  Treasure Island  1972         Italy  1973-08-13\n",
       "408292  Treasure Island  1972        France  1973-10-25\n",
       "408293  Treasure Island  1972       Finland  1974-12-20\n",
       "408294  Treasure Island  1972       Hungary  1977-01-27\n",
       "408295  Treasure Island  1972        Poland  1978-02-03\n",
       "408296  Treasure Island  1985        France  1994-06-15"
      ]
     },
     "execution_count": 104,
     "metadata": {},
     "output_type": "execute_result"
    }
   ],
   "source": [
    "treasure = release_dates[release_dates['title'] == 'Treasure Island'].sort_values(by='date')\n",
    "treasure"
   ]
  },
  {
   "cell_type": "markdown",
   "id": "a94f4524",
   "metadata": {},
   "source": [
    "### 5. How many movies were made in 1950? 1980? 2000? What conclusions can you draw from these data points?"
   ]
  },
  {
   "cell_type": "code",
   "execution_count": 144,
   "id": "8d44bdb2",
   "metadata": {},
   "outputs": [
    {
     "name": "stdout",
     "output_type": "stream",
     "text": [
      "Movies made in 1950: 3049\n",
      "Movies made in 1980: 2912\n",
      "Movies made in 2000: 7216\n",
      "you can see that the movie industry has boomed in since the 1980's\n"
     ]
    }
   ],
   "source": [
    "count_1950 = release_dates[release_dates['year'] == 1950].shape[0]\n",
    "count_1980 = release_dates[release_dates['year'] == 1980].shape[0]\n",
    "count_2000 = release_dates[release_dates['year'] == 2000].shape[0]\n",
    "\n",
    "print(f\"Movies made in 1950: {count_1950}\")\n",
    "print(f\"Movies made in 1980: {count_1980}\")\n",
    "print(f\"Movies made in 2000: {count_2000}\")\n",
    "\n",
    "print(\"you can see that the movie industry has boomed in since the 1980's\")"
   ]
  },
  {
   "cell_type": "markdown",
   "id": "0c34799c",
   "metadata": {},
   "source": [
    "### 6. How big was the cast of Metropolis\n"
   ]
  },
  {
   "cell_type": "code",
   "execution_count": 145,
   "id": "4461cc46",
   "metadata": {},
   "outputs": [
    {
     "data": {
      "text/plain": [
       "33"
      ]
     },
     "execution_count": 145,
     "metadata": {},
     "output_type": "execute_result"
    }
   ],
   "source": [
    "metropolis_cast = cast[cast['title']=='Metropolis']\n",
    "len(metropolis_cast)"
   ]
  },
  {
   "cell_type": "code",
   "execution_count": null,
   "id": "d43aa7f6",
   "metadata": {},
   "outputs": [],
   "source": []
  },
  {
   "cell_type": "markdown",
   "id": "7dead3d7",
   "metadata": {},
   "source": [
    "### 7. How many roles for actors were there 1950's? 1990's"
   ]
  },
  {
   "cell_type": "code",
   "execution_count": 146,
   "id": "9f7336d3",
   "metadata": {},
   "outputs": [
    {
     "name": "stdout",
     "output_type": "stream",
     "text": [
      "209890\n",
      "361218\n"
     ]
    }
   ],
   "source": [
    "roles_1950s = cast[(cast['year'] >= 1950) & (cast['year'] < 1960)].shape[0]\n",
    "roles_1990s = cast[(cast['year'] >= 1990) & (cast['year'] < 2000)].shape[0]\n",
    "\n",
    "print(roles_1950s)\n",
    "print(roles_1990s)"
   ]
  },
  {
   "cell_type": "markdown",
   "id": "3c5ad9f2",
   "metadata": {},
   "source": [
    "### 8. How many roles for actors & actresses over time? Output should be a line graph"
   ]
  },
  {
   "cell_type": "code",
   "execution_count": 147,
   "id": "a4401c78",
   "metadata": {},
   "outputs": [
    {
     "data": {
      "text/plain": [
       "<matplotlib.legend.Legend at 0x18923ca0210>"
      ]
     },
     "execution_count": 147,
     "metadata": {},
     "output_type": "execute_result"
    },
    {
     "data": {
      "image/png": "[encoded data removed]",
      "text/plain": [
       "<Figure size 1200x600 with 1 Axes>"
      ]
     },
     "metadata": {},
     "output_type": "display_data"
    }
   ],
   "source": [
    "actors = cast[(cast['type'] == 'actor') & (cast['year'] <= 2017)]\n",
    "actresses = cast[(cast['type'] == 'actress') & (cast['year'] <= 2017)]\n",
    "\n",
    "actor_counts = actors.groupby('year').size()\n",
    "actress_counts = actresses.groupby('year').size()\n",
    "\n",
    "plt.figure(figsize=(12, 6))\n",
    "plt.plot(actor_counts.index, actor_counts, label='Actor Roles')\n",
    "plt.plot(actress_counts.index, actress_counts, label='Actress Roles')\n",
    "plt.title('Roles for Actors and Actresses')\n",
    "plt.xlabel('Year')\n",
    "plt.ylabel('Number of Roles')\n",
    "plt.legend()"
   ]
  },
  {
   "cell_type": "markdown",
   "id": "5e3a04c7",
   "metadata": {},
   "source": [
    "### 9. How many \"leading roles\" were there in the 2000's?"
   ]
  },
  {
   "cell_type": "code",
   "execution_count": 148,
   "id": "01cc5e7f",
   "metadata": {},
   "outputs": [
    {
     "data": {
      "text/plain": [
       "23593"
      ]
     },
     "execution_count": 148,
     "metadata": {},
     "output_type": "execute_result"
    }
   ],
   "source": [
    "leading_roles = cast[(cast['year'] >= 2000) & (cast['year'] < 2010) & (cast['n'] == 1)].shape[0]\n",
    "leading_roles\n"
   ]
  },
  {
   "cell_type": "markdown",
   "id": "a60c91b4",
   "metadata": {},
   "source": [
    "### 10. How many roles received no ranking in the 2000's? 1950's. What conclusions can you draw from these two data points?"
   ]
  },
  {
   "cell_type": "code",
   "execution_count": 149,
   "id": "4b729250",
   "metadata": {},
   "outputs": [
    {
     "name": "stdout",
     "output_type": "stream",
     "text": [
      "232037\n",
      "95406\n",
      "This shows that there are many more roles that did not recieve rankings in the 1950's\n"
     ]
    }
   ],
   "source": [
    "rank_2000s = cast[(cast['year'] >= 2000) & (cast['year'] < 2010) & (cast['n'].isna())].shape[0]\n",
    "rank_1950s = cast[(cast['year'] >= 1950) & (cast['year'] < 1960) & (cast['n'].isna())].shape[0]\n",
    "\n",
    "print(rank_2000s)\n",
    "print(rank_1950s)\n",
    "print(\"This shows that there are many more roles that did not recieve rankings in the 1950's\")"
   ]
  },
  {
   "cell_type": "markdown",
   "id": "33d9c249",
   "metadata": {},
   "source": [
    "### 11. Plot the number of films made in each decade"
   ]
  },
  {
   "cell_type": "code",
   "execution_count": 150,
   "id": "3f6c5b5a",
   "metadata": {},
   "outputs": [
    {
     "data": {
      "text/plain": [
       "Text(0, 0.5, 'Number of Films')"
      ]
     },
     "execution_count": 150,
     "metadata": {},
     "output_type": "execute_result"
    },
    {
     "data": {
      "image/png": "[encoded data removed]",
      "text/plain": [
       "<Figure size 1000x600 with 1 Axes>"
      ]
     },
     "metadata": {},
     "output_type": "display_data"
    }
   ],
   "source": [
    "titles = titles[titles['year'] <= 2018]\n",
    "titles['decade'] = (titles['year'] // 10) * 10 \n",
    "by_decade = titles.groupby('decade').size()\n",
    "\n",
    "\n",
    "plt.figure(figsize=(10, 6))\n",
    "plt.plot(by_decade.index,by_decade,)\n",
    "plt.title('Films Made in Each Decade')\n",
    "plt.xlabel('Decade')\n",
    "plt.ylabel('Number of Films')"
   ]
  },
  {
   "cell_type": "markdown",
   "id": "7b8b93e3",
   "metadata": {},
   "source": [
    "### 12. Plot the number of films with a Rustler character over time"
   ]
  },
  {
   "cell_type": "code",
   "execution_count": 109,
   "id": "ed1bce02",
   "metadata": {},
   "outputs": [
    {
     "data": {
      "text/plain": [
       "Text(0, 0.5, 'Number of Films')"
      ]
     },
     "execution_count": 109,
     "metadata": {},
     "output_type": "execute_result"
    },
    {
     "data": {
      "image/png": "[encoded data removed]",
      "text/plain": [
       "<Figure size 1200x600 with 1 Axes>"
      ]
     },
     "metadata": {},
     "output_type": "display_data"
    }
   ],
   "source": [
    "rustler = cast[cast['character'] == 'Rustler'].groupby('year').size()\n",
    "plt.figure(figsize=(12, 6))\n",
    "plt.plot(rustler.index, rustler,)\n",
    "plt.title('Rustler Character Over Time')\n",
    "plt.xlabel('Year')\n",
    "plt.ylabel('Number of Films')"
   ]
  },
  {
   "cell_type": "markdown",
   "id": "1df5a8a7",
   "metadata": {},
   "source": [
    "### 13. What are the top ten character names of all time?"
   ]
  },
  {
   "cell_type": "code",
   "execution_count": 111,
   "id": "fc30c391",
   "metadata": {},
   "outputs": [
    {
     "data": {
      "text/plain": [
       "character\n",
       "Himself        19637\n",
       "Dancer         12019\n",
       "Extra          10848\n",
       "Reporter        7818\n",
       "Doctor          6963\n",
       "Party Guest     6786\n",
       "Student         6631\n",
       "Policeman       6424\n",
       "Bartender       6290\n",
       "Herself         6269\n",
       "Name: count, dtype: int64"
      ]
     },
     "execution_count": 111,
     "metadata": {},
     "output_type": "execute_result"
    }
   ],
   "source": [
    "top_ten = cast['character'].value_counts().head(10)\n",
    "top_ten"
   ]
  },
  {
   "cell_type": "markdown",
   "id": "febd5c97",
   "metadata": {},
   "source": [
    "### 14. Which actor appeared in the most films in the 1990's decade?"
   ]
  },
  {
   "cell_type": "code",
   "execution_count": 114,
   "id": "ed10c4df",
   "metadata": {},
   "outputs": [
    {
     "name": "stdout",
     "output_type": "stream",
     "text": [
      "Shakti Kapoor\n"
     ]
    }
   ],
   "source": [
    "actor_1990s = cast[(cast['year'] >= 1990) & (cast['year'] < 2000)]\n",
    "top_1990s = actor_1990s['name'].value_counts().idxmax()\n",
    "\n",
    "print(top_1990s)"
   ]
  },
  {
   "cell_type": "markdown",
   "id": "b2d57a18",
   "metadata": {},
   "source": [
    "### 15. What are the top 10 roles that start with Science?"
   ]
  },
  {
   "cell_type": "code",
   "execution_count": 121,
   "id": "64b41362",
   "metadata": {},
   "outputs": [
    {
     "data": {
      "text/plain": [
       "character\n",
       "Science Teacher         57\n",
       "Science Fair Student     9\n",
       "Science Student          6\n",
       "Science Fair Judge       6\n",
       "Science Kid              5\n",
       "Science Fair Kid         5\n",
       "Science Reporter         5\n",
       "Science                  4\n",
       "Science Officer          3\n",
       "Science teacher          3\n",
       "Name: count, dtype: int64"
      ]
     },
     "execution_count": 121,
     "metadata": {},
     "output_type": "execute_result"
    }
   ],
   "source": [
    "science_roles = cast[cast['character'].str.startswith('Science', na=False)]\n",
    "top_ten = science_roles['character'].value_counts().head(10)\n",
    "top_ten"
   ]
  },
  {
   "cell_type": "code",
   "execution_count": null,
   "id": "35e5f456",
   "metadata": {},
   "outputs": [],
   "source": []
  },
  {
   "cell_type": "code",
   "execution_count": null,
   "id": "2de76e6c",
   "metadata": {},
   "outputs": [],
   "source": []
  }
 ],
 "metadata": {
  "kernelspec": {
   "display_name": "Python 3 (ipykernel)",
   "language": "python",
   "name": "python3"
  },
  "language_info": {
   "codemirror_mode": {
    "name": "ipython",
    "version": 3
   },
   "file_extension": ".py",
   "mimetype": "text/x-python",
   "name": "python",
   "nbconvert_exporter": "python",
   "pygments_lexer": "ipython3",
   "version": "3.11.7"
  }
 },
 "nbformat": 4,
 "nbformat_minor": 5
}
